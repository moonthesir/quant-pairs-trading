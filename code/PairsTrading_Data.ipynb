from itertools import product
param_grid = {
    'lookback': [40, 60, 100],
    'entry_z': [1.5, 2.0, 2.5],
    'exit_z': [0.5, 1.0],
    'max_hold': [5, 10, 20]
}

results = []
for (lb, ez, xz, mh) in product(param_grid['lookback'], param_grid['entry_z'], param_grid['exit_z'], param_grid['max_hold']):
    params = {'lookback': lb, 'entry_z': ez, 'exit_z': xz, 'max_hold': mh, 'cost_per_trade': 1.0, 'slippage_pct': 0.0001}
    df = backtest_pairs(data, params)
    # compute metrics (CAGR, sharpe, maxdd) from df['pnl'] -> total_pnl etc.
    metrics = compute_metrics_from_pnl(df['pnl'])
    results.append({**params, **metrics})

results_df = pd.DataFrame(results)
results_df.sort_values('sharpe', ascending=False).head(10)
