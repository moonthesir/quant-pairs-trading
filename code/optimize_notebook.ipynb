{
 "cells": [
  {
   "cell_type": "code",
   "execution_count": null,
   "id": "59d6573d-4e82-419c-b04f-6830fb81e3c1",
   "metadata": {},
   "outputs": [],
   "source": []
  }
 ],
 "metadata": {
  "kernelspec": {
   "display_name": "",
   "name": ""
  },
  "language_info": {
   "name": ""
  }
 },
 "nbformat": 4,
 "nbformat_minor": 5
}
